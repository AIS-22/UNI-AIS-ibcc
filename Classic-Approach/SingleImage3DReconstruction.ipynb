{
 "cells": [
  {
   "attachments": {},
   "cell_type": "markdown",
   "metadata": {},
   "source": [
    "# Plot image"
   ]
  },
  {
   "cell_type": "code",
   "execution_count": null,
   "metadata": {},
   "outputs": [],
   "source": [
    "import cv2\n",
    "import numpy as np\n",
    "import pickle\n",
    "import matplotlib.pyplot as plt\n",
    "from mpl_toolkits.mplot3d import Axes3D\n",
    "\n",
    "object_points, image_points, ret, k_matrix, distortion, r_vecs, t_vecs = np.load(\"Calibration/cam_parameters_iPhone8.npy\", allow_pickle=True)\n",
    "\n",
    "# Load the image and undistort it using the calibration parameters\n",
    "imageName = 'images/book.JPG'\n",
    "image = cv2.imread(imageName)\n",
    "undistorted_image = cv2.undistort(image, k_matrix, distortion)\n",
    "\n",
    "fig, axs = plt.subplots(1,2,figsize=(12,6))\n",
    "axs[0].set_axis_off()\n",
    "axs[1].set_axis_off()\n",
    "axs[0].imshow(image, aspect = 'auto')\n",
    "axs[1].imshow(undistorted_image, aspect = \"auto\")\n",
    "axs[0].set_title(\"image\")\n",
    "axs[1].set_title(\"undistorted image\")"
   ]
  },
  {
   "cell_type": "code",
   "execution_count": null,
   "metadata": {},
   "outputs": [],
   "source": [
    "##Using undistorted image important? \n",
    "##if important insert:\n",
    "#image = undistorted_image"
   ]
  },
  {
   "cell_type": "code",
   "execution_count": null,
   "outputs": [],
   "source": [
    "imageWithEdges = cv2.imread(imageName)\n",
    "gray = cv2.cvtColor(imageWithEdges, cv2.COLOR_RGB2GRAY)\n",
    "#find optimum parameters for canny (edge detection)\n",
    "v = np.mean(gray)\n",
    "sigma = 0.33\n",
    "cannyTh1 = int(max(0, (1.0 - sigma) * v))\n",
    "cannyTh2 = int(min(255, (1.0 + sigma) * v))\n",
    "edges = cv2.Canny(gray, cannyTh1, cannyTh2)\n",
    "\n",
    "lines = cv2.HoughLinesP(edges, 1, np.pi/180, 30, maxLineGap=2500)\n",
    "whiteImage = np.full((imageWithEdges.shape[0],imageWithEdges.shape[1],imageWithEdges.shape[2]),255,dtype = np.uint8)\n",
    "\n",
    "for line in lines:\n",
    "  x1, y1, x2, y2 = line[0]\n",
    "  cv2.line(imageWithEdges, (x1, y1), (x2, y2), (0, 255, 0), 1)\n",
    "  cv2.line(whiteImage, (x1, y1), (x2, y2), (0, 255, 0), 1)\n",
    "\n",
    "fig, axs = plt.subplots(1,2,figsize=(12,3))\n",
    "fig.suptitle(\"canny thresholds = \"+str(cannyTh1)+\" , \"+str(cannyTh2))\n",
    "axs[0].set_axis_off()\n",
    "axs[0].imshow(imageWithEdges, aspect = 'auto')\n",
    "axs[1].imshow(whiteImage, aspect = \"auto\")\n",
    "axs[0].set_title(\"image with vanishing lines\")\n",
    "axs[1].set_title(\"vanishing lines\")"
   ],
   "metadata": {
    "collapsed": false
   }
  },
  {
   "cell_type": "markdown",
   "metadata": {
    "collapsed": false
   },
   "source": [
    "---\n",
    "# BEGIN SECTION MICHI"
   ]
  },
  {
   "cell_type": "code",
   "execution_count": null,
   "metadata": {
    "collapsed": false
   },
   "outputs": [],
   "source": [
    "def detect_vanishing_lines(img):\n",
    "    gray = cv2.cvtColor(img, cv2.COLOR_RGB2GRAY)\n",
    "    #find optimum parameters for canny (edge detection)\n",
    "    v = np.mean(gray)\n",
    "    sigma = 0.33\n",
    "    cannyTh1 = int(max(0, (1.0 - sigma) * v))\n",
    "    cannyTh2 = int(min(255, (1.0 + sigma) * v))\n",
    "    edges = cv2.Canny(gray, cannyTh1, cannyTh2)\n",
    "\n",
    "    lines = cv2.HoughLines(edges, 1, np.pi/180.0, 120, np.array([]))\n",
    "    return lines"
   ]
  },
  {
   "cell_type": "code",
   "execution_count": null,
   "metadata": {},
   "outputs": [],
   "source": [
    "def extend_line_starting_points(tuple):\n",
    "    x1,y1 = tuple[0]\n",
    "    x2,y2 = tuple[1]\n",
    "\n",
    "    # Calculate the slope\n",
    "    slope = (y2 - y1) / (x2 - x1)\n",
    "\n",
    "    # Calculate the y-intercept\n",
    "    y_intercept = y1 - slope * x1\n",
    "\n",
    "    #extend the line\n",
    "    x1 = x1*-1000\n",
    "    y1 = np.int32 (slope * x1 + y_intercept)\n",
    "    x2 = x2*1000\n",
    "    y2 = np.int32(slope * x2 + y_intercept)\n",
    "\n",
    "    return ((x1,y1), (x2,y2))"
   ]
  },
  {
   "cell_type": "code",
   "execution_count": null,
   "metadata": {},
   "outputs": [],
   "source": [
    "points = []\n",
    "\n",
    "def on_mouse_click(event, x, y, flags, param):\n",
    "    # if the left mouse button is clicked\n",
    "    if event == cv2.EVENT_LBUTTONDOWN:\n",
    "        # append the coordinates of the clicked point to the list\n",
    "        points.append((x, y))\n",
    "\n",
    "\n",
    "def let_user_draw_vanishing_lines_manually(lines):\n",
    "    points.clear()\n",
    "    print(\"Do you want to add a new line? (y/n)\")\n",
    "    if input() == 'y':\n",
    "        #print the image and let the user click on the position. The user should select points which gets then appended as a tuple to lines\n",
    "        # Create a window to display the image\n",
    "        cv2.namedWindow('image')\n",
    "\n",
    "        # Set the mouse callback function for the window\n",
    "        cv2.setMouseCallback('image', on_mouse_click)\n",
    "\n",
    "        while True:\n",
    "            # Display the image in a new window\n",
    "            cv2.imshow('image', imageWithEdgesOptimized)\n",
    "\n",
    "            # Check if the user pressed the 'q' key or already 2 points selected\n",
    "            if cv2.waitKey(1) & 0xFF == ord('q') or len(points) == 2:\n",
    "                break\n",
    "\n",
    "        # Destroy the window and exit the program\n",
    "        cv2.destroyAllWindows()\n",
    "\n",
    "        x1,y1 = points[0]\n",
    "        x2,y2 = points[1]\n",
    "\n",
    "        temp = imageWithEdgesOptimized.copy()\n",
    "        #let user check if he/she wants to keep the line\n",
    "        cv2.line(temp,(x1,y1),(x2,y2),(0,255,0),1)\n",
    "        plt.imshow(temp)\n",
    "        #wait 2 seconds\n",
    "        plt.pause(2)\n",
    "        plt.close()\n",
    "        print(\"Do you want to keep this line? (y/n)\")\n",
    "        if input() == 'y':\n",
    "            ((x1,y1),(x2,y2)) = extend_line_starting_points(((x1,y1),(x2,y2)))\n",
    "            cv2.line(imageWithEdgesOptimized,(x1,y1),(x2,y2),(0,255,0),1)\n",
    "            print(\"To which axis does the line correspond? (x/y/z)\")\n",
    "            answer = input()\n",
    "            if answer == 'x':\n",
    "                lines['x'].append(((x1,y1),(x2,y2)))\n",
    "            if answer == 'y':\n",
    "                lines['y'].append(((x1,y1),(x2,y2)))\n",
    "            if answer == 'z':\n",
    "                lines['z'].append(((x1,y1),(x2,y2)))\n",
    "        return True\n",
    "    else:\n",
    "        return False"
   ]
  },
  {
   "cell_type": "code",
   "execution_count": null,
   "metadata": {},
   "outputs": [],
   "source": [
    "image = cv2.imread(imageName)\n",
    "lines = detect_vanishing_lines(image)\n",
    "imageWithEdgesOptimized = image.copy()\n",
    "\n",
    "#declare an axis dictionary to store the start and end points of the lines\n",
    "lineStartEndPointsAxisMap = {'x': [], 'y': [], 'z': []}\n",
    "\n",
    "for line in lines:\n",
    "    rho,theta = line[0]\n",
    "    a = np.cos(theta)\n",
    "    b = np.sin(theta)\n",
    "    x0 = a*rho\n",
    "    y0 = b*rho\n",
    "    x1 = int(x0 + 10000*(-b))\n",
    "    y1 = int(y0 + 10000*(a))\n",
    "    x2 = int(x0 - 10000*(-b))\n",
    "    y2 = int(y0 - 10000*(a))\n",
    "    temp = image.copy()\n",
    "    #let user check if he/she wants to keep the line\n",
    "    cv2.line(temp,(x1,y1),(x2,y2),(0,255,0),1)\n",
    "    plt.imshow(temp)\n",
    "    #wait 1 second\n",
    "    plt.pause(1)\n",
    "    plt.close()\n",
    "    print(\"Do you want to keep this line? (y/n)\")\n",
    "    if input() == 'y':\n",
    "        cv2.line(imageWithEdgesOptimized,(x1,y1),(x2,y2),(0,255,0),1)\n",
    "        print(\"To which axis does the line correspond? (x/y/z)\")\n",
    "        answer = input()\n",
    "        if answer == 'x':\n",
    "            lineStartEndPointsAxisMap['x'].append(((x1,y1),(x2,y2)))\n",
    "        if answer == 'y':\n",
    "            lineStartEndPointsAxisMap['y'].append(((x1,y1),(x2,y2)))\n",
    "        if answer == 'z':\n",
    "            lineStartEndPointsAxisMap['z'].append(((x1,y1),(x2,y2)))\n",
    "        \n",
    "\n",
    "while let_user_draw_vanishing_lines_manually(lineStartEndPointsAxisMap):\n",
    "    pass\n",
    "\n",
    "fig, axs = plt.subplots(1,2,figsize=(12,3))\n",
    "axs[0].set_axis_off()\n",
    "axs[1].set_axis_off()\n",
    "axs[0].imshow(imageWithEdges, aspect = 'auto')\n",
    "axs[1].imshow(imageWithEdgesOptimized, aspect = \"auto\")\n",
    "axs[0].set_title(\"image with vanishing lines\")\n",
    "axs[1].set_title(\"image with optimized vanishing lines\")"
   ]
  },
  {
   "cell_type": "code",
   "execution_count": null,
   "metadata": {},
   "outputs": [],
   "source": [
    "extendedLines = image.copy()\n",
    "\n",
    "for key, element in lineStartEndPointsAxisMap.items():\n",
    "    for e in element:\n",
    "        cv2.line(extendedLines,e[0], e[1],(0,255,0),1)\n",
    "\n",
    "plt.imshow(extendedLines, aspect = \"auto\")"
   ]
  },
  {
   "cell_type": "markdown",
   "metadata": {
    "collapsed": false
   },
   "source": [
    "#### Determine Vanishing Points"
   ]
  },
  {
   "cell_type": "code",
   "execution_count": null,
   "metadata": {
    "collapsed": false
   },
   "outputs": [],
   "source": [
    "from shapely.geometry import LineString\n",
    "\n",
    "vanishingPoints = {'x':(), 'y':(), 'z':()}\n",
    "\n",
    "for key, element in lineStartEndPointsAxisMap.items():\n",
    "    #calculate the intersection of the first 2 lines (the others should also intersect at the same point)\n",
    "    t1 = element[0]\n",
    "    t2 = element[1]\n",
    "    #create two lines\n",
    "    line1 = LineString(t1)\n",
    "    line2 = LineString(t2)\n",
    "    vanishingPoints[key] = line1.intersection(line2).x, line1.intersection(line2).y\n",
    "\n",
    "print('calculated vanishing points:')\n",
    "print(vanishingPoints)"
   ]
  },
  {
   "cell_type": "code",
   "execution_count": null,
   "outputs": [],
   "source": [
    "from skimage import transform\n",
    "\n",
    "#form the projection matrix => scaling factors are missing mult with k_matrix??!!!! ask on wednesday!\n",
    "vx = (vanishingPoints['x'][0],vanishingPoints['x'][1] ,1)\n",
    "vy = (vanishingPoints['y'][0],vanishingPoints['y'][1] ,1)\n",
    "vz = (vanishingPoints['z'][0],vanishingPoints['z'][1] ,1)\n",
    "w = (0,0,1)\n",
    "\n",
    "projectionMatrix = np.column_stack([vx,vy,vz,w])\n",
    "\n",
    "print(projectionMatrix)"
   ],
   "metadata": {
    "collapsed": false
   }
  },
  {
   "cell_type": "code",
   "execution_count": null,
   "outputs": [],
   "source": [
    "# Extract the camera matrix\n",
    "camera_matrix = projectionMatrix[:, :3]\n",
    "# Extract the rotation and translation vectors\n",
    "rotation_vector, jacobian = cv2.Rodrigues(projectionMatrix[:, :3])\n",
    "translation_vector = projectionMatrix[:, 3]"
   ],
   "metadata": {
    "collapsed": false
   }
  },
  {
   "cell_type": "markdown",
   "metadata": {
    "collapsed": false
   },
   "source": [
    "# END SECTION MICHI\n",
    "---"
   ]
  }
 ],
 "metadata": {
  "kernelspec": {
   "display_name": "Python 3",
   "language": "python",
   "name": "python3"
  },
  "language_info": {
   "codemirror_mode": {
    "name": "ipython",
    "version": 3
   },
   "file_extension": ".py",
   "mimetype": "text/x-python",
   "name": "python",
   "nbconvert_exporter": "python",
   "pygments_lexer": "ipython3",
   "version": "3.10.9 (main, Dec 19 2022, 17:35:49) [GCC 12.2.0]"
  },
  "vscode": {
   "interpreter": {
    "hash": "e7370f93d1d0cde622a1f8e1c04877d8463912d04d973331ad4851f04de6915a"
   }
  }
 },
 "nbformat": 4,
 "nbformat_minor": 0
}
