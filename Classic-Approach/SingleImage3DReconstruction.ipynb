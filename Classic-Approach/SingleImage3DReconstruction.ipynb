{
 "cells": [
  {
   "cell_type": "code",
   "execution_count": null,
   "outputs": [],
   "source": [
    "import cv2\n",
    "import numpy as np\n",
    "from stl import mesh\n",
    "import pickle\n",
    "\n",
    "#Load the camera parameters\n",
    "file = open('Calibration/cam_parameters.pckl', 'rb')\n",
    "object_points, image_points, ret, k_matrix, distortion, r_vecs, t_vecs = pickle.load(file)\n",
    "\n",
    "# Load the image\n",
    "image = cv2.imread(\"images/box.JPG\")\n",
    "\n",
    "# Convert the image to grayscale\n",
    "gray = cv2.cvtColor(image, cv2.COLOR_BGR2GRAY)\n",
    "\n",
    "# Detect features in the image\n",
    "kp, des = cv2.SIFT().detectAndCompute(gray, None)\n",
    "\n",
    "# Calibrate the camera\n",
    "#ret, K, distortion, rvecs, tvecs = cv2.calibrateCamera(object_points, image_points, gray.shape[::-1], None, None)\n",
    "\n",
    "# Detect vanishing points in the image\n",
    "vanishing_points, _ = cv2.solvePnPRansac(object_points, image_points, k_matrix, None, flags=cv2.SOLVEPNP_EPNP)\n",
    "\n",
    "# Use the vanishing points and the intrinsic camera matrix to reconstruct the 3D scene\n",
    "points_3d, _ = cv2.projectPoints(object_points, r_vecs, t_vecs, k_matrix, distortion)\n",
    "\n",
    "# Create a new STL mesh\n",
    "model = mesh.Mesh(np.zeros(points_3d.shape[0], dtype=mesh.Mesh.dtype))\n",
    "\n",
    "# Map the 3D points to the vertices of the STL model\n",
    "vertices = model.vectors\n",
    "vertices[:, :3] = points_3d\n",
    "\n",
    "# Map the colors of the pixels to the vertex colors of the STL model\n",
    "colors = image[:, :, ::-1]\n",
    "colors = colors.reshape(-1, 3)\n",
    "vertex_colors = np.empty(vertices.shape, dtype=colors.dtype)\n",
    "vertex_colors[:, :] = colors[:, :]\n",
    "\n",
    "# Update the vertices and vertex colors of the STL model\n",
    "model.vectors = vertices\n",
    "model.vertex_colors = vertex_colors\n",
    "\n",
    "# Save the updated STL model\n",
    "model.save(\"updated_model.stl\")"
   ],
   "metadata": {
    "collapsed": false
   }
  }
 ],
 "metadata": {
  "kernelspec": {
   "display_name": "Python 3",
   "language": "python",
   "name": "python3"
  },
  "language_info": {
   "codemirror_mode": {
    "name": "ipython",
    "version": 2
   },
   "file_extension": ".py",
   "mimetype": "text/x-python",
   "name": "python",
   "nbconvert_exporter": "python",
   "pygments_lexer": "ipython2",
   "version": "2.7.6"
  }
 },
 "nbformat": 4,
 "nbformat_minor": 0
}
