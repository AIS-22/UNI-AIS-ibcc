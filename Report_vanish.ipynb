{
 "cells": [
  {
   "attachments": {},
   "cell_type": "markdown",
   "metadata": {},
   "source": [
    "### Detect edges in image (done by Aleksandar Radovic)\n",
    "\n",
    "The houghline algorithm makes it possible to detect lines in an image. As a parameter the edges are needed. This edges can be achieved by the open cv canny edge detection algorithm. By changing the treshhold of the canny algorithm it is possible to adjust the number of found edges. To get the optimum treshholds a sigma of 0.33 and the mean of the grayscale image was used. \n",
    "\n",
    "However, the detected lines are still to much as you can see in the plot below"
   ]
  },
  {
   "cell_type": "code",
   "execution_count": 1,
   "metadata": {},
   "outputs": [
    {
     "data": {
      "text/html": [
       "<img src=\"report-images/houghlines.png\"/>"
      ],
      "text/plain": [
       "<IPython.core.display.Image object>"
      ]
     },
     "execution_count": 1,
     "metadata": {},
     "output_type": "execute_result"
    }
   ],
   "source": [
    "from IPython.display import Image\n",
    "Image(url= \"report-images/houghlines.png\")"
   ]
  },
  {
   "attachments": {},
   "cell_type": "markdown",
   "metadata": {},
   "source": [
    "A lot of different approaches were developed, but noone led to a good result. A lot of time was taken by searching for an method without an user interaction, but finally we had to  the help include an user into the approach. There was no other way to get the exact edges of the image. \n",
    "\n",
    "By adjusting the parameters of the canny and houghline algorithm only a few lines were detected. Each found line was then classified as correct or wrong by the user. If a line was correct, the user also inserts the coordinate of this specific line (x/y/z). If still lines are missing, a method was developed to let the user draw the lines as you can see in the image below. "
   ]
  },
  {
   "cell_type": "code",
   "execution_count": 2,
   "metadata": {},
   "outputs": [
    {
     "data": {
      "text/html": [
       "<img src=\"report-images/draw_lines.png\"/>"
      ],
      "text/plain": [
       "<IPython.core.display.Image object>"
      ]
     },
     "execution_count": 2,
     "metadata": {},
     "output_type": "execute_result"
    }
   ],
   "source": [
    "Image(url= \"report-images/draw_lines.png\")"
   ]
  },
  {
   "attachments": {},
   "cell_type": "markdown",
   "metadata": {},
   "source": [
    "In this plot the y coordinate lines are missing. By selecting to corners of the object, the user is able to draw a line manually. "
   ]
  },
  {
   "attachments": {},
   "cell_type": "markdown",
   "metadata": {},
   "source": [
    "Process:\n",
    "+ Drawing lines of the object in the image with the help of canny and houghline algorighm.\n",
    "+ Classifying each line by the user (correct/wrong).\n",
    "+ If line is correct, the user selects the coordinate (x/y/z) of it.\n",
    "+ Repeat first three steps until all detected houghlines were classified. \n",
    "+ If still lines are missing, the user can draw lines in the object by seleting two points. \n",
    "+ Specify the coordinate of the drawn line"
   ]
  },
  {
   "cell_type": "code",
   "execution_count": 4,
   "metadata": {},
   "outputs": [
    {
     "data": {
      "text/html": [
       "<img src=\"report-images/manuel_selected_lines.png\"/>"
      ],
      "text/plain": [
       "<IPython.core.display.Image object>"
      ]
     },
     "execution_count": 4,
     "metadata": {},
     "output_type": "execute_result"
    }
   ],
   "source": [
    "Image(url= \"report-images/manuel_selected_lines.png\")"
   ]
  },
  {
   "attachments": {},
   "cell_type": "markdown",
   "metadata": {},
   "source": [
    "As a result we got the edges of the object and a list with three lines for each coordinate. "
   ]
  },
  {
   "cell_type": "code",
   "execution_count": 5,
   "metadata": {},
   "outputs": [
    {
     "data": {
      "text/html": [
       "<img src=\"report-images/optimized_lines.png\"/>"
      ],
      "text/plain": [
       "<IPython.core.display.Image object>"
      ]
     },
     "execution_count": 5,
     "metadata": {},
     "output_type": "execute_result"
    }
   ],
   "source": [
    "Image(url= \"report-images/optimized_lines.png\")"
   ]
  },
  {
   "attachments": {},
   "cell_type": "markdown",
   "metadata": {},
   "source": [
    "In the above plot the detected lines by the houghline algorithm are shown in the left image and in the right image the detected lines with the help of an user input. \n",
    "\n",
    "It can be clearly seen, that the houghline algorithm alone is not enough to find the edges which are necessary to create a 3D reconstruction. \n",
    "\n",
    "With this result the 3D reconstruction was explored with many different approaches, but none led to a 3D image of the book. The problem was that the vanishing points are outside the image, what made the distance calculation nearly impossible. Therefore, also for that step a user interaction was needed.\n",
    "\n",
    "The 3D reconstruction approaches were explored by Michael Hafner and Aleksandar Radovic. Noone could find a solution without an user input. The final 3D reconstruction with the user interaction was developed by Michael Hafner."
   ]
  }
 ],
 "metadata": {
  "kernelspec": {
   "display_name": "Python 3",
   "language": "python",
   "name": "python3"
  },
  "language_info": {
   "codemirror_mode": {
    "name": "ipython",
    "version": 3
   },
   "file_extension": ".py",
   "mimetype": "text/x-python",
   "name": "python",
   "nbconvert_exporter": "python",
   "pygments_lexer": "ipython3",
   "version": "3.8.10"
  },
  "vscode": {
   "interpreter": {
    "hash": "31f2aee4e71d21fbe5cf8b01ff0e069b9275f58929596ceb00d14d90e3e16cd6"
   }
  }
 },
 "nbformat": 4,
 "nbformat_minor": 0
}
