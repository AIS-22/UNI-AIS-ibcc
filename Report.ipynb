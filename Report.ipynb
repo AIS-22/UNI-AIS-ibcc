{
 "cells": [
  {
   "attachments": {},
   "cell_type": "markdown",
   "metadata": {},
   "source": [
    "# Single Image 3D reconstruction\n",
    "\n",
    "by Michael Hafner, Moritz Langer, Aleksandar Radovic\n",
    "\n",
    "## Responsibilities\n",
    "\n",
    " Classical Approach | Deep Learning Approach\n",
    " -------- | --------\n",
    " Michael Hafner   | Moritz Langer\n",
    " Aleksandar Radovic |\n"
   ]
  },
  {
   "attachments": {},
   "cell_type": "markdown",
   "metadata": {},
   "source": [
    "## Classical Approach\n",
    "\n",
    "### Introduction\n",
    "\n"
   ]
  },
  {
   "cell_type": "code",
   "execution_count": null,
   "metadata": {},
   "outputs": [],
   "source": []
  },
  {
   "attachments": {},
   "cell_type": "markdown",
   "metadata": {},
   "source": [
    "## Deep Learning Approach\n",
    "\n",
    "### Introduction"
   ]
  },
  {
   "attachments": {},
   "cell_type": "markdown",
   "metadata": {},
   "source": [
    "## Summary"
   ]
  }
 ],
 "metadata": {
  "language_info": {
   "name": "python"
  },
  "orig_nbformat": 4
 },
 "nbformat": 4,
 "nbformat_minor": 2
}
